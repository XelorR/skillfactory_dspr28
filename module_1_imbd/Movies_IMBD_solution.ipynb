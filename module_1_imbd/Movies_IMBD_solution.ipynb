{
 "cells": [
  {
   "cell_type": "code",
   "execution_count": 1,
   "metadata": {
    "lines_to_next_cell": 0
   },
   "outputs": [],
   "source": [
    "import json\n",
    "import os\n",
    "import pickle\n",
    "import re\n",
    "from collections import Counter\n",
    "from itertools import chain\n",
    "\n",
    "import pandas as pd\n",
    "from tqdm.notebook import tqdm"
   ]
  },
  {
   "cell_type": "code",
   "execution_count": 2,
   "metadata": {
    "_cell_guid": "79c7e3d0-c299-4dcb-8224-4455121ee9b0",
    "_uuid": "d629ff2d2480ee46fbb7e2d37f6b5fab8052498a",
    "colab": {},
    "colab_type": "code",
    "id": "oyGfxL3eVp9-"
   },
   "outputs": [
    {
     "data": {
      "text/html": [
       "<div>\n",
       "<style scoped>\n",
       "    .dataframe tbody tr th:only-of-type {\n",
       "        vertical-align: middle;\n",
       "    }\n",
       "\n",
       "    .dataframe tbody tr th {\n",
       "        vertical-align: top;\n",
       "    }\n",
       "\n",
       "    .dataframe thead th {\n",
       "        text-align: right;\n",
       "    }\n",
       "</style>\n",
       "<table border=\"1\" class=\"dataframe\">\n",
       "  <thead>\n",
       "    <tr style=\"text-align: right;\">\n",
       "      <th></th>\n",
       "      <th>imdb_id</th>\n",
       "      <th>budget</th>\n",
       "      <th>revenue</th>\n",
       "      <th>original_title</th>\n",
       "      <th>cast</th>\n",
       "      <th>director</th>\n",
       "      <th>tagline</th>\n",
       "      <th>overview</th>\n",
       "      <th>runtime</th>\n",
       "      <th>genres</th>\n",
       "      <th>production_companies</th>\n",
       "      <th>release_date</th>\n",
       "      <th>vote_average</th>\n",
       "      <th>release_year</th>\n",
       "    </tr>\n",
       "  </thead>\n",
       "  <tbody>\n",
       "    <tr>\n",
       "      <th>205</th>\n",
       "      <td>tt2011159</td>\n",
       "      <td>13200000</td>\n",
       "      <td>53830415</td>\n",
       "      <td>No Good Deed</td>\n",
       "      <td>Idris Elba|Taraji P. Henson|Leslie Bibb|Kate d...</td>\n",
       "      <td>Sam Miller</td>\n",
       "      <td>First he gets into your house. Then he gets in...</td>\n",
       "      <td>Terri, a devoted wife and mother of two, lives...</td>\n",
       "      <td>84</td>\n",
       "      <td>Thriller</td>\n",
       "      <td>Sony Pictures|Screen Gems</td>\n",
       "      <td>9/12/2014</td>\n",
       "      <td>5.8</td>\n",
       "      <td>2014</td>\n",
       "    </tr>\n",
       "    <tr>\n",
       "      <th>1864</th>\n",
       "      <td>tt0203019</td>\n",
       "      <td>32000000</td>\n",
       "      <td>48814909</td>\n",
       "      <td>Men of Honor</td>\n",
       "      <td>Robert De Niro|Cuba Gooding Jr.|Charlize Thero...</td>\n",
       "      <td>George Tillman, Jr.</td>\n",
       "      <td>History is made by those who break the rules.</td>\n",
       "      <td>Against formidable odds -- and an old-school d...</td>\n",
       "      <td>129</td>\n",
       "      <td>Drama</td>\n",
       "      <td>Fox 2000 Pictures</td>\n",
       "      <td>9/13/2000</td>\n",
       "      <td>7.0</td>\n",
       "      <td>2000</td>\n",
       "    </tr>\n",
       "    <tr>\n",
       "      <th>1569</th>\n",
       "      <td>tt0343818</td>\n",
       "      <td>120000000</td>\n",
       "      <td>347234916</td>\n",
       "      <td>I, Robot</td>\n",
       "      <td>Will Smith|Bridget Moynahan|Alan Tudyk|James C...</td>\n",
       "      <td>Alex Proyas</td>\n",
       "      <td>Laws are made to be broken.</td>\n",
       "      <td>In the year 2035, where robots are common and ...</td>\n",
       "      <td>115</td>\n",
       "      <td>Action|Science Fiction</td>\n",
       "      <td>Twentieth Century Fox Film Corporation|Laurenc...</td>\n",
       "      <td>7/15/2004</td>\n",
       "      <td>6.6</td>\n",
       "      <td>2004</td>\n",
       "    </tr>\n",
       "  </tbody>\n",
       "</table>\n",
       "</div>"
      ],
      "text/plain": [
       "        imdb_id     budget    revenue original_title  \\\n",
       "205   tt2011159   13200000   53830415   No Good Deed   \n",
       "1864  tt0203019   32000000   48814909   Men of Honor   \n",
       "1569  tt0343818  120000000  347234916       I, Robot   \n",
       "\n",
       "                                                   cast             director  \\\n",
       "205   Idris Elba|Taraji P. Henson|Leslie Bibb|Kate d...           Sam Miller   \n",
       "1864  Robert De Niro|Cuba Gooding Jr.|Charlize Thero...  George Tillman, Jr.   \n",
       "1569  Will Smith|Bridget Moynahan|Alan Tudyk|James C...          Alex Proyas   \n",
       "\n",
       "                                                tagline  \\\n",
       "205   First he gets into your house. Then he gets in...   \n",
       "1864      History is made by those who break the rules.   \n",
       "1569                        Laws are made to be broken.   \n",
       "\n",
       "                                               overview  runtime  \\\n",
       "205   Terri, a devoted wife and mother of two, lives...       84   \n",
       "1864  Against formidable odds -- and an old-school d...      129   \n",
       "1569  In the year 2035, where robots are common and ...      115   \n",
       "\n",
       "                      genres  \\\n",
       "205                 Thriller   \n",
       "1864                   Drama   \n",
       "1569  Action|Science Fiction   \n",
       "\n",
       "                                   production_companies release_date  \\\n",
       "205                           Sony Pictures|Screen Gems    9/12/2014   \n",
       "1864                                  Fox 2000 Pictures    9/13/2000   \n",
       "1569  Twentieth Century Fox Film Corporation|Laurenc...    7/15/2004   \n",
       "\n",
       "      vote_average  release_year  \n",
       "205            5.8          2014  \n",
       "1864           7.0          2000  \n",
       "1569           6.6          2004  "
      ]
     },
     "execution_count": 2,
     "metadata": {},
     "output_type": "execute_result"
    }
   ],
   "source": [
    "data = pd.read_csv(\"movie_bd_v5.csv\")\n",
    "data.sample(3)"
   ]
  },
  {
   "cell_type": "code",
   "execution_count": 3,
   "metadata": {},
   "outputs": [
    {
     "data": {
      "text/plain": [
       "imdb_id                  object\n",
       "budget                    int64\n",
       "revenue                   int64\n",
       "original_title           object\n",
       "cast                     object\n",
       "director                 object\n",
       "tagline                  object\n",
       "overview                 object\n",
       "runtime                   int64\n",
       "genres                   object\n",
       "production_companies     object\n",
       "release_date             object\n",
       "vote_average            float64\n",
       "release_year              int64\n",
       "dtype: object"
      ]
     },
     "execution_count": 3,
     "metadata": {},
     "output_type": "execute_result"
    }
   ],
   "source": [
    "data.dtypes"
   ]
  },
  {
   "cell_type": "markdown",
   "metadata": {
    "colab_type": "text",
    "id": "DTIt7ezGVp-G"
   },
   "source": [
    "# Предобработка"
   ]
  },
  {
   "cell_type": "code",
   "execution_count": 4,
   "metadata": {
    "colab": {},
    "colab_type": "code",
    "id": "jNb40DwKVp-H"
   },
   "outputs": [],
   "source": [
    "answers = {}  # создадим словарь для ответов\n",
    "\n",
    "# тут другие ваши предобработки колонок например:\n",
    "\n",
    "# the time given in the dataset is in string format.\n",
    "# So we need to change this in datetime format\n",
    "# ..."
   ]
  },
  {
   "cell_type": "code",
   "execution_count": 5,
   "metadata": {},
   "outputs": [
    {
     "data": {
      "text/html": [
       "<div>\n",
       "<style scoped>\n",
       "    .dataframe tbody tr th:only-of-type {\n",
       "        vertical-align: middle;\n",
       "    }\n",
       "\n",
       "    .dataframe tbody tr th {\n",
       "        vertical-align: top;\n",
       "    }\n",
       "\n",
       "    .dataframe thead th {\n",
       "        text-align: right;\n",
       "    }\n",
       "</style>\n",
       "<table border=\"1\" class=\"dataframe\">\n",
       "  <thead>\n",
       "    <tr style=\"text-align: right;\">\n",
       "      <th></th>\n",
       "      <th>imdb_id</th>\n",
       "      <th>budget</th>\n",
       "      <th>revenue</th>\n",
       "      <th>original_title</th>\n",
       "      <th>cast</th>\n",
       "      <th>director</th>\n",
       "      <th>tagline</th>\n",
       "      <th>overview</th>\n",
       "      <th>runtime</th>\n",
       "      <th>genres</th>\n",
       "      <th>...</th>\n",
       "      <th>release_month</th>\n",
       "      <th>release_day</th>\n",
       "      <th>release_month_ru</th>\n",
       "      <th>season</th>\n",
       "      <th>cast_set</th>\n",
       "      <th>genres_set</th>\n",
       "      <th>production_companies_set</th>\n",
       "      <th>title_lengths</th>\n",
       "      <th>overview_wordcounts</th>\n",
       "      <th>profit</th>\n",
       "    </tr>\n",
       "  </thead>\n",
       "  <tbody>\n",
       "    <tr>\n",
       "      <th>121</th>\n",
       "      <td>tt2911666</td>\n",
       "      <td>20000000</td>\n",
       "      <td>78739897</td>\n",
       "      <td>John Wick</td>\n",
       "      <td>Keanu Reeves|Michael Nyqvist|Alfie Allen|Wille...</td>\n",
       "      <td>Chad Stahelski|David Leitch</td>\n",
       "      <td>Don't set him off.</td>\n",
       "      <td>After the sudden death of his beloved wife, Jo...</td>\n",
       "      <td>101</td>\n",
       "      <td>Action|Thriller</td>\n",
       "      <td>...</td>\n",
       "      <td>10</td>\n",
       "      <td>22</td>\n",
       "      <td>Октябрь</td>\n",
       "      <td>autumn</td>\n",
       "      <td>{Alfie Allen, Willem Dafoe, Keanu Reeves, Mich...</td>\n",
       "      <td>{Action, Thriller}</td>\n",
       "      <td>{87Eleven, Thunder Road Pictures, DefyNite Fil...</td>\n",
       "      <td>9</td>\n",
       "      <td>81</td>\n",
       "      <td>58739897</td>\n",
       "    </tr>\n",
       "    <tr>\n",
       "      <th>580</th>\n",
       "      <td>tt0255798</td>\n",
       "      <td>22000000</td>\n",
       "      <td>84772742</td>\n",
       "      <td>The Animal</td>\n",
       "      <td>Rob Schneider|Colleen Haskell|John C. McGinley...</td>\n",
       "      <td>Luke Greenfield</td>\n",
       "      <td>He wasn't much of a man... Now he's not much o...</td>\n",
       "      <td>When loser Marvin Mange is involved in a horri...</td>\n",
       "      <td>84</td>\n",
       "      <td>Action|Comedy</td>\n",
       "      <td>...</td>\n",
       "      <td>6</td>\n",
       "      <td>1</td>\n",
       "      <td>Июнь</td>\n",
       "      <td>summer</td>\n",
       "      <td>{Colleen Haskell, Guy Torry, Rob Schneider, Ed...</td>\n",
       "      <td>{Action, Comedy}</td>\n",
       "      <td>{Revolution Studios, Happy Madison Productions}</td>\n",
       "      <td>10</td>\n",
       "      <td>70</td>\n",
       "      <td>62772742</td>\n",
       "    </tr>\n",
       "    <tr>\n",
       "      <th>468</th>\n",
       "      <td>tt1341188</td>\n",
       "      <td>120000000</td>\n",
       "      <td>48668907</td>\n",
       "      <td>How Do You Know</td>\n",
       "      <td>Reese Witherspoon|Paul Rudd|Owen Wilson|Jack N...</td>\n",
       "      <td>James L. Brooks</td>\n",
       "      <td>How do you know it's love?</td>\n",
       "      <td>After being cut from the USA softball team and...</td>\n",
       "      <td>121</td>\n",
       "      <td>Comedy|Drama|Romance</td>\n",
       "      <td>...</td>\n",
       "      <td>12</td>\n",
       "      <td>17</td>\n",
       "      <td>Декабрь</td>\n",
       "      <td>winter</td>\n",
       "      <td>{Reese Witherspoon, Paul Rudd, Owen Wilson, Ka...</td>\n",
       "      <td>{Romance, Comedy, Drama}</td>\n",
       "      <td>{Columbia Pictures, Road Rebel, Gracie Films}</td>\n",
       "      <td>15</td>\n",
       "      <td>42</td>\n",
       "      <td>-71331093</td>\n",
       "    </tr>\n",
       "  </tbody>\n",
       "</table>\n",
       "<p>3 rows × 24 columns</p>\n",
       "</div>"
      ],
      "text/plain": [
       "       imdb_id     budget   revenue   original_title  \\\n",
       "121  tt2911666   20000000  78739897        John Wick   \n",
       "580  tt0255798   22000000  84772742       The Animal   \n",
       "468  tt1341188  120000000  48668907  How Do You Know   \n",
       "\n",
       "                                                  cast  \\\n",
       "121  Keanu Reeves|Michael Nyqvist|Alfie Allen|Wille...   \n",
       "580  Rob Schneider|Colleen Haskell|John C. McGinley...   \n",
       "468  Reese Witherspoon|Paul Rudd|Owen Wilson|Jack N...   \n",
       "\n",
       "                        director  \\\n",
       "121  Chad Stahelski|David Leitch   \n",
       "580              Luke Greenfield   \n",
       "468              James L. Brooks   \n",
       "\n",
       "                                               tagline  \\\n",
       "121                                 Don't set him off.   \n",
       "580  He wasn't much of a man... Now he's not much o...   \n",
       "468                         How do you know it's love?   \n",
       "\n",
       "                                              overview  runtime  \\\n",
       "121  After the sudden death of his beloved wife, Jo...      101   \n",
       "580  When loser Marvin Mange is involved in a horri...       84   \n",
       "468  After being cut from the USA softball team and...      121   \n",
       "\n",
       "                   genres  ... release_month release_day  release_month_ru  \\\n",
       "121       Action|Thriller  ...            10          22           Октябрь   \n",
       "580         Action|Comedy  ...             6           1              Июнь   \n",
       "468  Comedy|Drama|Romance  ...            12          17           Декабрь   \n",
       "\n",
       "     season                                           cast_set  \\\n",
       "121  autumn  {Alfie Allen, Willem Dafoe, Keanu Reeves, Mich...   \n",
       "580  summer  {Colleen Haskell, Guy Torry, Rob Schneider, Ed...   \n",
       "468  winter  {Reese Witherspoon, Paul Rudd, Owen Wilson, Ka...   \n",
       "\n",
       "                   genres_set  \\\n",
       "121        {Action, Thriller}   \n",
       "580          {Action, Comedy}   \n",
       "468  {Romance, Comedy, Drama}   \n",
       "\n",
       "                              production_companies_set title_lengths  \\\n",
       "121  {87Eleven, Thunder Road Pictures, DefyNite Fil...             9   \n",
       "580    {Revolution Studios, Happy Madison Productions}            10   \n",
       "468      {Columbia Pictures, Road Rebel, Gracie Films}            15   \n",
       "\n",
       "    overview_wordcounts    profit  \n",
       "121                  81  58739897  \n",
       "580                  70  62772742  \n",
       "468                  42 -71331093  \n",
       "\n",
       "[3 rows x 24 columns]"
      ]
     },
     "execution_count": 5,
     "metadata": {},
     "output_type": "execute_result"
    }
   ],
   "source": [
    "months_russian_names = {\n",
    "    1: \"Январь\",\n",
    "    2: \"Февраль\",\n",
    "    3: \"Март\",\n",
    "    4: \"Апрель\",\n",
    "    5: \"Май\",\n",
    "    6: \"Июнь\",\n",
    "    7: \"Июль\",\n",
    "    8: \"Август\",\n",
    "    9: \"Сентябрь\",\n",
    "    10: \"Октябрь\",\n",
    "    11: \"Ноябрь\",\n",
    "    12: \"Декабрь\",\n",
    "}\n",
    "seasons = {\n",
    "    1: \"winter\",\n",
    "    2: \"winter\",\n",
    "    3: \"spring\",\n",
    "    4: \"spring\",\n",
    "    5: \"spring\",\n",
    "    6: \"summer\",\n",
    "    7: \"summer\",\n",
    "    8: \"summer\",\n",
    "    9: \"autumn\",\n",
    "    10: \"autumn\",\n",
    "    11: \"autumn\",\n",
    "    12: \"winter\",\n",
    "}\n",
    "\n",
    "# трансформируем дату и создаём сезональные переменные\n",
    "data[\"release_date\"] = pd.to_datetime(data.release_date)\n",
    "data[\"release_month\"] = data.release_date.dt.month\n",
    "data[\"release_day\"] = data.release_date.dt.day\n",
    "data[\"release_month_ru\"] = data.release_month.map(months_russian_names)\n",
    "data[\"season\"] = data.release_month.map(seasons)\n",
    "\n",
    "# создаём множества из переменных, в которых несколько значений\n",
    "data[\"cast_set\"] = data.cast.apply(lambda cast: set(cast.split(\"|\")))\n",
    "data[\"genres_set\"] = data.genres.apply(lambda genres: set(genres.split(\"|\")))\n",
    "data[\"production_companies_set\"] = data.production_companies.apply(\n",
    "    lambda production_companies: set(production_companies.split(\"|\"))\n",
    ")\n",
    "\n",
    "# переменные, связанные с количеством элементов\n",
    "data[\"title_lengths\"] = data.original_title.apply(lambda title: len(title))\n",
    "data[\"overview_wordcounts\"] = data.overview.apply(\n",
    "    lambda overview: len(re.findall(r\"\\w+\", overview))\n",
    ")\n",
    "\n",
    "# прочие переменные\n",
    "data[\"profit\"] = data.revenue - data.budget\n",
    "\n",
    "data.sample(3)"
   ]
  },
  {
   "cell_type": "code",
   "execution_count": 6,
   "metadata": {},
   "outputs": [
    {
     "data": {
      "text/plain": [
       "imdb_id                             object\n",
       "budget                               int64\n",
       "revenue                              int64\n",
       "original_title                      object\n",
       "cast                                object\n",
       "director                            object\n",
       "tagline                             object\n",
       "overview                            object\n",
       "runtime                              int64\n",
       "genres                              object\n",
       "production_companies                object\n",
       "release_date                datetime64[ns]\n",
       "vote_average                       float64\n",
       "release_year                         int64\n",
       "release_month                        int64\n",
       "release_day                          int64\n",
       "release_month_ru                    object\n",
       "season                              object\n",
       "cast_set                            object\n",
       "genres_set                          object\n",
       "production_companies_set            object\n",
       "title_lengths                        int64\n",
       "overview_wordcounts                  int64\n",
       "profit                               int64\n",
       "dtype: object"
      ]
     },
     "execution_count": 6,
     "metadata": {},
     "output_type": "execute_result"
    }
   ],
   "source": [
    "data.dtypes"
   ]
  },
  {
   "cell_type": "markdown",
   "metadata": {
    "colab_type": "text",
    "id": "YxZaH-nPVp-L"
   },
   "source": [
    "# 1. У какого фильма из списка самый большой бюджет?"
   ]
  },
  {
   "cell_type": "markdown",
   "metadata": {
    "colab_type": "text",
    "id": "Nd-G5gX6Vp-M"
   },
   "source": [
    "Использовать варианты ответов в коде решения запрещено.\n",
    "Вы думаете и в жизни у вас будут варианты ответов?)"
   ]
  },
  {
   "cell_type": "code",
   "execution_count": 7,
   "metadata": {
    "colab": {},
    "colab_type": "code",
    "id": "dZwb3m28Vp-S"
   },
   "outputs": [],
   "source": [
    "# тут пишем ваш код для решения данного вопроса:"
   ]
  },
  {
   "cell_type": "code",
   "execution_count": 8,
   "metadata": {
    "colab": {},
    "colab_type": "code"
   },
   "outputs": [],
   "source": [
    "answer_one = data.sort_values([\"budget\"], ascending=False).head(1)[\n",
    "    [\"original_title\", \"imdb_id\"]\n",
    "]"
   ]
  },
  {
   "cell_type": "code",
   "execution_count": 9,
   "metadata": {
    "colab": {},
    "colab_type": "code",
    "id": "uVnXAY5RVp-O"
   },
   "outputs": [],
   "source": [
    "# в словарь вставляем номер вопроса и ваш ответ на него\n",
    "# Пример:\n",
    "answers[\"1\"] = \"2. Spider-Man 3 (tt0413300)\"\n",
    "# запишите свой вариант ответа\n",
    "answers[\"1\"] = f\"5. {answer_one.values[0][0]} ({answer_one.values[0][1]})\"\n",
    "# если ответили верно, можете добавить комментарий со значком \"+\""
   ]
  },
  {
   "cell_type": "code",
   "execution_count": 10,
   "metadata": {},
   "outputs": [
    {
     "data": {
      "text/plain": [
       "'5. Pirates of the Caribbean: On Stranger Tides (tt1298650)'"
      ]
     },
     "execution_count": 10,
     "metadata": {},
     "output_type": "execute_result"
    }
   ],
   "source": [
    "answers[\"1\"]\n",
    "# +"
   ]
  },
  {
   "cell_type": "markdown",
   "metadata": {
    "colab_type": "text",
    "id": "K7L3nbRXVp-X"
   },
   "source": [
    "ВАРИАНТ 2"
   ]
  },
  {
   "cell_type": "code",
   "execution_count": 11,
   "metadata": {
    "colab": {},
    "colab_type": "code",
    "id": "OGaoQI7rVp-X"
   },
   "outputs": [],
   "source": [
    "# можно добавлять разные варианты решения"
   ]
  },
  {
   "cell_type": "markdown",
   "metadata": {
    "colab_type": "text",
    "id": "FNRbbI3vVp-c"
   },
   "source": [
    "# 2. Какой из фильмов самый длительный (в минутах)?"
   ]
  },
  {
   "cell_type": "code",
   "execution_count": 12,
   "metadata": {
    "colab": {},
    "colab_type": "code",
    "id": "ot-VX2XrVp-g"
   },
   "outputs": [
    {
     "data": {
      "text/plain": [
       "('Gods and Generals', 'tt0279111')"
      ]
     },
     "execution_count": 12,
     "metadata": {},
     "output_type": "execute_result"
    }
   ],
   "source": [
    "title, id = data.loc[\n",
    "    data.runtime == data.runtime.max(), [\"original_title\", \"imdb_id\"]\n",
    "].values[0]\n",
    "title, id"
   ]
  },
  {
   "cell_type": "code",
   "execution_count": 13,
   "metadata": {
    "colab": {},
    "colab_type": "code",
    "id": "vHAoEXNTVp-d"
   },
   "outputs": [],
   "source": [
    "\n",
    "# думаю логику работы с этим словарем вы уже поняли,\n",
    "# по этому не буду больше его дублировать\n",
    "answers[\"2\"] = f\"2. {title} ({id})\""
   ]
  },
  {
   "cell_type": "code",
   "execution_count": 14,
   "metadata": {},
   "outputs": [
    {
     "data": {
      "text/plain": [
       "'2. Gods and Generals (tt0279111)'"
      ]
     },
     "execution_count": 14,
     "metadata": {},
     "output_type": "execute_result"
    }
   ],
   "source": [
    "answers[\"2\"]\n",
    "# +"
   ]
  },
  {
   "cell_type": "markdown",
   "metadata": {
    "colab_type": "text",
    "id": "bapLlpW8Vp-k"
   },
   "source": [
    "# 3. Какой из фильмов самый короткий (в минутах)?\n",
    "\n",
    "\n",
    "\n"
   ]
  },
  {
   "cell_type": "code",
   "execution_count": 15,
   "metadata": {
    "colab": {},
    "colab_type": "code",
    "id": "YBxaSHuAVp-l"
   },
   "outputs": [
    {
     "data": {
      "text/plain": [
       "('Winnie the Pooh', 'tt1449283')"
      ]
     },
     "execution_count": 15,
     "metadata": {},
     "output_type": "execute_result"
    }
   ],
   "source": [
    "title, id = data.loc[\n",
    "    data.runtime == data.runtime.min(), [\"original_title\", \"imdb_id\"]\n",
    "].values[0]\n",
    "title, id"
   ]
  },
  {
   "cell_type": "code",
   "execution_count": 16,
   "metadata": {},
   "outputs": [
    {
     "data": {
      "text/plain": [
       "'3. Winnie the Pooh (tt1449283)'"
      ]
     },
     "execution_count": 16,
     "metadata": {},
     "output_type": "execute_result"
    }
   ],
   "source": [
    "answers[\"3\"] = f\"3. {title} ({id})\"\n",
    "answers[\"3\"]\n",
    "# +"
   ]
  },
  {
   "cell_type": "markdown",
   "metadata": {
    "colab_type": "text",
    "id": "TfQbxbfNVp-p"
   },
   "source": [
    "# 4. Какова средняя длительность фильмов?\n"
   ]
  },
  {
   "cell_type": "code",
   "execution_count": 17,
   "metadata": {
    "colab": {},
    "colab_type": "code",
    "id": "5K6dKZYVVp-q"
   },
   "outputs": [
    {
     "data": {
      "text/plain": [
       "'2. 110'"
      ]
     },
     "execution_count": 17,
     "metadata": {},
     "output_type": "execute_result"
    }
   ],
   "source": [
    "answers[\"4\"] = f\"2. {data.runtime.mean():.0f}\"\n",
    "answers[\"4\"]\n",
    "# +"
   ]
  },
  {
   "cell_type": "markdown",
   "metadata": {
    "colab_type": "text",
    "id": "r5TvbnT_Vp-u"
   },
   "source": [
    "# 5. Каково медианное значение длительности фильмов?"
   ]
  },
  {
   "cell_type": "code",
   "execution_count": 18,
   "metadata": {
    "colab": {},
    "colab_type": "code",
    "id": "iBROplKnVp-v"
   },
   "outputs": [
    {
     "data": {
      "text/plain": [
       "'1. 107'"
      ]
     },
     "execution_count": 18,
     "metadata": {},
     "output_type": "execute_result"
    }
   ],
   "source": [
    "answers[\"5\"] = f\"1. {data.runtime.median():.0f}\"\n",
    "answers[\"5\"]\n",
    "# +"
   ]
  },
  {
   "cell_type": "markdown",
   "metadata": {
    "colab_type": "text",
    "id": "39P-deDSVp-y"
   },
   "source": [
    "# 6. Какой самый прибыльный фильм?\n",
    "#### Внимание! Здесь и далее под «прибылью» или «убытками» понимается разность между сборами и бюджетом фильма. (прибыль = сборы - бюджет) в нашем датасете это будет (profit = revenue - budget)"
   ]
  },
  {
   "cell_type": "code",
   "execution_count": 19,
   "metadata": {
    "colab": {},
    "colab_type": "code",
    "id": "UYZh4T9WVp-y"
   },
   "outputs": [
    {
     "data": {
      "text/plain": [
       "('Avatar', 'tt0499549')"
      ]
     },
     "execution_count": 19,
     "metadata": {},
     "output_type": "execute_result"
    }
   ],
   "source": [
    "# лучше код получения столбца profit вынести в Предобработку что в начале\n",
    "title, id = data.loc[\n",
    "    data.profit == data.profit.max(), [\"original_title\", \"imdb_id\"]\n",
    "].values[0]\n",
    "title, id"
   ]
  },
  {
   "cell_type": "code",
   "execution_count": 20,
   "metadata": {},
   "outputs": [
    {
     "data": {
      "text/plain": [
       "'5. Avatar (tt0499549)'"
      ]
     },
     "execution_count": 20,
     "metadata": {},
     "output_type": "execute_result"
    }
   ],
   "source": [
    "answers[\"6\"] = f\"5. {title} ({id})\"\n",
    "answers[\"6\"]\n",
    "# +"
   ]
  },
  {
   "cell_type": "markdown",
   "metadata": {
    "colab_type": "text",
    "id": "M99JmIX4Vp-2"
   },
   "source": [
    "# 7. Какой фильм самый убыточный?"
   ]
  },
  {
   "cell_type": "code",
   "execution_count": 21,
   "metadata": {
    "colab": {},
    "colab_type": "code",
    "id": "w-D2m4XPVp-3"
   },
   "outputs": [
    {
     "data": {
      "text/plain": [
       "('The Lone Ranger', 'tt1210819')"
      ]
     },
     "execution_count": 21,
     "metadata": {},
     "output_type": "execute_result"
    }
   ],
   "source": [
    "title, id = data.loc[\n",
    "    data.profit == data.profit.min(), [\"original_title\", \"imdb_id\"]\n",
    "].values[0]\n",
    "title, id"
   ]
  },
  {
   "cell_type": "code",
   "execution_count": 22,
   "metadata": {},
   "outputs": [
    {
     "data": {
      "text/plain": [
       "'5. The Lone Ranger (tt1210819)'"
      ]
     },
     "execution_count": 22,
     "metadata": {},
     "output_type": "execute_result"
    }
   ],
   "source": [
    "answers[\"7\"] = f\"5. {title} ({id})\"\n",
    "answers[\"7\"]\n",
    "# +"
   ]
  },
  {
   "cell_type": "markdown",
   "metadata": {
    "colab_type": "text",
    "id": "wEOM5ERVVp-6"
   },
   "source": [
    "# 8. У скольких фильмов из датасета объем сборов оказался выше бюджета?"
   ]
  },
  {
   "cell_type": "code",
   "execution_count": 23,
   "metadata": {
    "colab": {},
    "colab_type": "code",
    "id": "y00_7HD6Vp-7"
   },
   "outputs": [
    {
     "data": {
      "text/plain": [
       "'1. 1478'"
      ]
     },
     "execution_count": 23,
     "metadata": {},
     "output_type": "execute_result"
    }
   ],
   "source": [
    "answers[\"8\"] = f\"1. {data.loc[data.profit > 0]['imdb_id'].count()}\"\n",
    "answers[\"8\"]\n",
    "# +"
   ]
  },
  {
   "cell_type": "markdown",
   "metadata": {
    "colab_type": "text",
    "id": "xhpspA9KVp_A"
   },
   "source": [
    "# 9. Какой фильм оказался самым кассовым в 2008 году?"
   ]
  },
  {
   "cell_type": "code",
   "execution_count": 24,
   "metadata": {
    "colab": {},
    "colab_type": "code",
    "id": "MoUyQr9RVp_B"
   },
   "outputs": [
    {
     "data": {
      "text/plain": [
       "('The Dark Knight', 'tt0468569')"
      ]
     },
     "execution_count": 24,
     "metadata": {},
     "output_type": "execute_result"
    }
   ],
   "source": [
    "title, id = (\n",
    "    data.query(\"release_year == 2008\")\n",
    "        .sort_values([\"revenue\"])\n",
    "        .tail(1)[[\"original_title\", \"imdb_id\"]]\n",
    "        .values[0]\n",
    ")\n",
    "title, id"
   ]
  },
  {
   "cell_type": "code",
   "execution_count": 25,
   "metadata": {},
   "outputs": [
    {
     "data": {
      "text/plain": [
       "'4. The Dark Knight (tt0468569)'"
      ]
     },
     "execution_count": 25,
     "metadata": {},
     "output_type": "execute_result"
    }
   ],
   "source": [
    "answers[\"9\"] = f\"4. {title} ({id})\"\n",
    "answers[\"9\"]\n",
    "# +"
   ]
  },
  {
   "cell_type": "markdown",
   "metadata": {
    "colab_type": "text",
    "id": "Zi4hDKidVp_F"
   },
   "source": [
    "# 10. Самый убыточный фильм за период с 2012 по 2014 г. (включительно)?\n"
   ]
  },
  {
   "cell_type": "code",
   "execution_count": 26,
   "metadata": {
    "colab": {},
    "colab_type": "code",
    "id": "XqyRmufJVp_F"
   },
   "outputs": [
    {
     "data": {
      "text/plain": [
       "('The Lone Ranger', 'tt1210819')"
      ]
     },
     "execution_count": 26,
     "metadata": {},
     "output_type": "execute_result"
    }
   ],
   "source": [
    "title, id = (\n",
    "    data.query(\"release_year >= 2012 & release_year <= 2014\")\n",
    "        .sort_values([\"profit\"])\n",
    "        .head(1)[[\"original_title\", \"imdb_id\"]]\n",
    "        .values[0]\n",
    ")\n",
    "title, id"
   ]
  },
  {
   "cell_type": "code",
   "execution_count": 27,
   "metadata": {},
   "outputs": [
    {
     "data": {
      "text/plain": [
       "'5. The Lone Ranger (tt1210819)'"
      ]
     },
     "execution_count": 27,
     "metadata": {},
     "output_type": "execute_result"
    }
   ],
   "source": [
    "answers[\"10\"] = f\"5. {title} ({id})\"\n",
    "answers[\"10\"]\n",
    "# +"
   ]
  },
  {
   "cell_type": "markdown",
   "metadata": {
    "colab_type": "text",
    "id": "EA7Sa9dkVp_I"
   },
   "source": [
    "# 11. Какого жанра фильмов больше всего?"
   ]
  },
  {
   "cell_type": "code",
   "execution_count": 28,
   "metadata": {
    "colab": {},
    "colab_type": "code",
    "id": "zsJAwJ8QVp_J"
   },
   "outputs": [],
   "source": [
    "# эту задачу тоже можно решать разными подходами, попробуй реализовать разные варианты\n",
    "# если будешь добавлять функцию - выноси ее в предобработку что в начале"
   ]
  },
  {
   "cell_type": "code",
   "execution_count": 29,
   "metadata": {},
   "outputs": [
    {
     "data": {
      "text/plain": [
       "[('Drama', 782),\n",
       " ('Comedy', 683),\n",
       " ('Thriller', 596),\n",
       " ('Action', 582),\n",
       " ('Adventure', 415),\n",
       " ('Crime', 315),\n",
       " ('Romance', 308),\n",
       " ('Family', 260),\n",
       " ('Science Fiction', 248),\n",
       " ('Fantasy', 222),\n",
       " ('Horror', 176),\n",
       " ('Mystery', 168),\n",
       " ('Animation', 139),\n",
       " ('Music', 64),\n",
       " ('History', 62),\n",
       " ('War', 58),\n",
       " ('Western', 19),\n",
       " ('Documentary', 8),\n",
       " ('Foreign', 2)]"
      ]
     },
     "execution_count": 29,
     "metadata": {},
     "output_type": "execute_result"
    }
   ],
   "source": [
    "most_frequent_genres = Counter(\n",
    "    chain(*[g.split(\"|\") for g in data.genres.tolist()])\n",
    ").most_common()\n",
    "most_frequent_genres"
   ]
  },
  {
   "cell_type": "markdown",
   "metadata": {
    "colab_type": "text",
    "id": "Ax6g2C8SVp_M"
   },
   "source": [
    "ВАРИАНТ 2"
   ]
  },
  {
   "cell_type": "code",
   "execution_count": 30,
   "metadata": {},
   "outputs": [
    {
     "data": {
      "text/plain": [
       "[('Drama', 782),\n",
       " ('Comedy', 683),\n",
       " ('Thriller', 596),\n",
       " ('Action', 582),\n",
       " ('Adventure', 415),\n",
       " ('Crime', 315),\n",
       " ('Romance', 308),\n",
       " ('Family', 260),\n",
       " ('Science Fiction', 248),\n",
       " ('Fantasy', 222),\n",
       " ('Horror', 176),\n",
       " ('Mystery', 168),\n",
       " ('Animation', 139),\n",
       " ('Music', 64),\n",
       " ('History', 62),\n",
       " ('War', 58),\n",
       " ('Western', 19),\n",
       " ('Documentary', 8),\n",
       " ('Foreign', 2)]"
      ]
     },
     "execution_count": 30,
     "metadata": {},
     "output_type": "execute_result"
    }
   ],
   "source": [
    "Counter(chain(*data.genres.apply(lambda genres: genres.split(\"|\")))).most_common()"
   ]
  },
  {
   "cell_type": "code",
   "execution_count": 31,
   "metadata": {
    "colab": {},
    "colab_type": "code",
    "id": "otO3SbrSVp_N"
   },
   "outputs": [
    {
     "data": {
      "text/plain": [
       "'3. Drama'"
      ]
     },
     "execution_count": 31,
     "metadata": {},
     "output_type": "execute_result"
    }
   ],
   "source": [
    "answers[\"11\"] = f\"3. {most_frequent_genres[0][0]}\"\n",
    "answers[\"11\"]\n",
    "# +"
   ]
  },
  {
   "cell_type": "markdown",
   "metadata": {
    "colab_type": "text",
    "id": "T9_bPWpkVp_Q"
   },
   "source": [
    "# 12. Фильмы какого жанра чаще всего становятся прибыльными?"
   ]
  },
  {
   "cell_type": "markdown",
   "metadata": {},
   "source": [
    "Я интерпретирую это так: \"какой жанр встречается чаще среди фильмов с профитом выше нуля\""
   ]
  },
  {
   "cell_type": "code",
   "execution_count": 32,
   "metadata": {
    "colab": {},
    "colab_type": "code",
    "id": "Tmt8MaK1Vp_R"
   },
   "outputs": [
    {
     "data": {
      "text/plain": [
       "['Drama', 'Comedy', 'Thriller']"
      ]
     },
     "execution_count": 32,
     "metadata": {},
     "output_type": "execute_result"
    }
   ],
   "source": [
    "genres_list = [g[0] for g in most_frequent_genres]\n",
    "genres_list[:3]"
   ]
  },
  {
   "cell_type": "code",
   "execution_count": 33,
   "metadata": {},
   "outputs": [
    {
     "data": {
      "text/plain": [
       "(1889, 24)"
      ]
     },
     "execution_count": 33,
     "metadata": {},
     "output_type": "execute_result"
    }
   ],
   "source": [
    "data.shape"
   ]
  },
  {
   "cell_type": "code",
   "execution_count": 34,
   "metadata": {},
   "outputs": [
    {
     "data": {
      "text/plain": [
       "(1478, 24)"
      ]
     },
     "execution_count": 34,
     "metadata": {},
     "output_type": "execute_result"
    }
   ],
   "source": [
    "data_profitable = data.query(\"profit > 0\")\n",
    "data_profitable.shape"
   ]
  },
  {
   "cell_type": "code",
   "execution_count": 35,
   "metadata": {},
   "outputs": [
    {
     "data": {
      "text/plain": [
       "{'Drama': 560,\n",
       " 'Comedy': 551,\n",
       " 'Thriller': 446,\n",
       " 'Action': 444,\n",
       " 'Adventure': 337,\n",
       " 'Crime': 231,\n",
       " 'Romance': 242,\n",
       " 'Family': 226,\n",
       " 'Science Fiction': 195,\n",
       " 'Fantasy': 188,\n",
       " 'Horror': 150,\n",
       " 'Mystery': 119,\n",
       " 'Animation': 120,\n",
       " 'Music': 47,\n",
       " 'History': 46,\n",
       " 'War': 41,\n",
       " 'Western': 12,\n",
       " 'Documentary': 7,\n",
       " 'Foreign': 0}"
      ]
     },
     "execution_count": 35,
     "metadata": {},
     "output_type": "execute_result"
    }
   ],
   "source": [
    "genre_counts = {}\n",
    "for genre in genres_list:\n",
    "    genre_counts[genre] = data_profitable.loc[\n",
    "        data_profitable.genres.str.contains(genre)\n",
    "    ].shape[0]\n",
    "\n",
    "genre_counts"
   ]
  },
  {
   "cell_type": "code",
   "execution_count": 36,
   "metadata": {},
   "outputs": [
    {
     "data": {
      "text/plain": [
       "'1. Drama'"
      ]
     },
     "execution_count": 36,
     "metadata": {},
     "output_type": "execute_result"
    }
   ],
   "source": [
    "answers[\n",
    "    \"12\"\n",
    "] = f\"1. {[k for k, v in genre_counts.items() if v == max(genre_counts.values())][0]}\"\n",
    "answers[\"12\"]\n",
    "# +"
   ]
  },
  {
   "cell_type": "markdown",
   "metadata": {
    "colab_type": "text",
    "id": "0F23bgsDVp_U"
   },
   "source": [
    "# 13. У какого режиссера самые большие суммарные кассовые сборы?"
   ]
  },
  {
   "cell_type": "code",
   "execution_count": 37,
   "metadata": {
    "colab": {},
    "colab_type": "code",
    "id": "K6Z3J8ygVp_X"
   },
   "outputs": [
    {
     "data": {
      "text/plain": [
       "'5. Peter Jackson'"
      ]
     },
     "execution_count": 37,
     "metadata": {},
     "output_type": "execute_result"
    }
   ],
   "source": [
    "answers[\n",
    "    \"13\"\n",
    "] = f\"5. {data.groupby('director')['revenue'].sum().sort_values().tail(1).index[0]}\"\n",
    "answers[\"13\"]\n",
    "# +"
   ]
  },
  {
   "cell_type": "markdown",
   "metadata": {
    "colab_type": "text",
    "id": "PsYC9FgRVp_a"
   },
   "source": [
    "# 14. Какой режисер снял больше всего фильмов в стиле Action?"
   ]
  },
  {
   "cell_type": "markdown",
   "metadata": {},
   "source": [
    "## для задания"
   ]
  },
  {
   "cell_type": "code",
   "execution_count": 38,
   "metadata": {
    "colab": {},
    "colab_type": "code",
    "id": "wd2M-wHeVp_b"
   },
   "outputs": [
    {
     "data": {
      "text/plain": [
       "{'Ridley Scott': 6,\n",
       " 'Quentin Tarantino': 3,\n",
       " 'Guy Ritchie': 4,\n",
       " 'Tony Scott': 5,\n",
       " 'Robert Rodriguez': 6}"
      ]
     },
     "execution_count": 38,
     "metadata": {},
     "output_type": "execute_result"
    }
   ],
   "source": [
    "directors_x_action_films = {}\n",
    "\n",
    "\n",
    "def get_films_for_director(director):\n",
    "    return data.loc[\n",
    "        (data.director == director) & (data.genres.str.contains(\"Action\"))\n",
    "        ].shape[0]\n",
    "\n",
    "\n",
    "for director in data.director.unique():\n",
    "    directors_x_action_films[director] = get_films_for_director(director)\n",
    "\n",
    "# Так сложилось, что система предлагает в качестве вариантов не самых-самых\n",
    "# Не проблема, давайте глянем, сколько фильмов у предложенных вариантов\n",
    "directors_for_puzzle = {\n",
    "    k: v\n",
    "    for k, v in directors_x_action_films.items()\n",
    "    if k\n",
    "       in [\n",
    "           \"Ridley Scott\",\n",
    "           \"Guy Ritchie\",\n",
    "           \"Robert Rodriguez\",\n",
    "           \"Quentin Tarantino\",\n",
    "           \"Tony Scott\",\n",
    "       ]\n",
    "}\n",
    "directors_for_puzzle"
   ]
  },
  {
   "cell_type": "markdown",
   "metadata": {},
   "source": [
    "## на самом деле\n",
    "\n",
    "(к сожалению, режиссёры с самым большим количестом фильмов жанра экшн\n",
    "не фигурируют в вариантах ответа)"
   ]
  },
  {
   "cell_type": "code",
   "execution_count": 39,
   "metadata": {},
   "outputs": [
    {
     "data": {
      "text/plain": [
       "{'Michael Bay': 7, 'Paul W.S. Anderson': 7}"
      ]
     },
     "execution_count": 39,
     "metadata": {},
     "output_type": "execute_result"
    }
   ],
   "source": [
    "# Вот правильный ответ\n",
    "# На случай, если вам интересно\n",
    "{\n",
    "    k: v\n",
    "    for k, v in directors_x_action_films.items()\n",
    "    if v == max(directors_x_action_films.values())\n",
    "}"
   ]
  },
  {
   "cell_type": "markdown",
   "metadata": {},
   "source": [
    "## Ладно, пишем ответ\n",
    "\n",
    "Выберем лучшего из предложенных и удовлетворим систему"
   ]
  },
  {
   "cell_type": "code",
   "execution_count": 40,
   "metadata": {},
   "outputs": [
    {
     "data": {
      "text/plain": [
       "'3. Robert Rodriguez'"
      ]
     },
     "execution_count": 40,
     "metadata": {},
     "output_type": "execute_result"
    }
   ],
   "source": [
    "answers[\"14\"] = f\"3. {sorted([k for k, v in directors_for_puzzle.items() if v == max(directors_for_puzzle.values())])[-1]}\"\n",
    "answers[\"14\"]\n",
    "# -"
   ]
  },
  {
   "cell_type": "markdown",
   "metadata": {
    "colab_type": "text",
    "id": "PQ0KciD7Vp_f"
   },
   "source": [
    "# 15. Фильмы с каким актером принесли самые высокие кассовые сборы в 2012 году?"
   ]
  },
  {
   "cell_type": "code",
   "execution_count": 41,
   "metadata": {
    "colab": {},
    "colab_type": "code",
    "id": "aga62oeKVp_g"
   },
   "outputs": [],
   "source": [
    "actors = set(chain(*data.cast.str.split(\"|\")))"
   ]
  },
  {
   "cell_type": "code",
   "execution_count": 42,
   "metadata": {},
   "outputs": [
    {
     "data": {
      "text/plain": [
       "'3. Chris Hemsworth'"
      ]
     },
     "execution_count": 42,
     "metadata": {},
     "output_type": "execute_result"
    }
   ],
   "source": [
    "most_revenuable_actors = {}\n",
    "\n",
    "for actor in actors:\n",
    "    most_revenuable_actors[actor] = data.loc[\n",
    "        (data.release_year == 2012) & (data.cast.str.contains(actor))\n",
    "        ].revenue.sum()\n",
    "\n",
    "answers[\n",
    "    \"15\"\n",
    "] = f\"3. {[k for k, v in most_revenuable_actors.items() if v == max(most_revenuable_actors.values())][0]}\"\n",
    "answers[\"15\"]\n",
    "# +"
   ]
  },
  {
   "cell_type": "markdown",
   "metadata": {
    "colab_type": "text",
    "id": "mWHyyL7QVp_j"
   },
   "source": [
    "# 16. Какой актер снялся в большем количестве высокобюджетных фильмов?"
   ]
  },
  {
   "cell_type": "code",
   "execution_count": 43,
   "metadata": {
    "colab": {},
    "colab_type": "code",
    "id": "qQtmHKTFVp_k"
   },
   "outputs": [
    {
     "data": {
      "text/plain": [
       "(671, 24)"
      ]
     },
     "execution_count": 43,
     "metadata": {},
     "output_type": "execute_result"
    }
   ],
   "source": [
    "data_high_budget = data.loc[data.budget > data.budget.mean()]\n",
    "data_high_budget.shape"
   ]
  },
  {
   "cell_type": "code",
   "execution_count": 44,
   "metadata": {},
   "outputs": [
    {
     "data": {
      "text/plain": [
       "'3. Matt Damon'"
      ]
     },
     "execution_count": 44,
     "metadata": {},
     "output_type": "execute_result"
    }
   ],
   "source": [
    "highcost_films_per_actor = {}\n",
    "\n",
    "for actor in actors:\n",
    "    highcost_films_per_actor[actor] = data_high_budget.loc[\n",
    "        data_high_budget.cast.str.contains(actor)\n",
    "    ].imdb_id.count()\n",
    "\n",
    "answers[\n",
    "    \"16\"\n",
    "] = f\"3. {[k for k, v in highcost_films_per_actor.items() if v == max(highcost_films_per_actor.values())][0]}\"\n",
    "answers[\"16\"]\n",
    "# +"
   ]
  },
  {
   "cell_type": "markdown",
   "metadata": {
    "colab_type": "text",
    "id": "NIh6AaW5Vp_n"
   },
   "source": [
    "# 17. В фильмах какого жанра больше всего снимался Nicolas Cage?"
   ]
  },
  {
   "cell_type": "code",
   "execution_count": 45,
   "metadata": {
    "colab": {},
    "colab_type": "code",
    "id": "H74SJDIBVp_n"
   },
   "outputs": [
    {
     "data": {
      "text/plain": [
       "'2. Action'"
      ]
     },
     "execution_count": 45,
     "metadata": {},
     "output_type": "execute_result"
    }
   ],
   "source": [
    "answers[\n",
    "    \"17\"\n",
    "] = f\"2. {Counter(chain(*data.loc[data.cast.str.contains('Nicolas Cage')].genres.str.split('|'))).most_common()[0][0]}\"\n",
    "answers[\"17\"]\n",
    "# +"
   ]
  },
  {
   "cell_type": "markdown",
   "metadata": {
    "colab_type": "text",
    "id": "RqOmPRfWVp_q"
   },
   "source": [
    "# 18. Самый убыточный фильм от Paramount Pictures"
   ]
  },
  {
   "cell_type": "code",
   "execution_count": 46,
   "metadata": {
    "colab": {},
    "colab_type": "code",
    "id": "9E_B0Y96Vp_r"
   },
   "outputs": [
    {
     "data": {
      "text/plain": [
       "'1. K-19: The Widowmaker (tt0267626)'"
      ]
     },
     "execution_count": 46,
     "metadata": {},
     "output_type": "execute_result"
    }
   ],
   "source": [
    "# наверное пора бы уже написать функцию для этого типового решения...\n",
    "# но не сегодня\n",
    "\n",
    "# Правда, проще написать однострочник и отформатировать его в pep8.\n",
    "\n",
    "title, id = (\n",
    "    data.loc[data.production_companies.str.contains(\"Paramount Pictures\")]\n",
    "        .sort_values([\"profit\"])[[\"original_title\", \"imdb_id\"]]\n",
    "        .iloc[0, :]\n",
    "        .values\n",
    ")\n",
    "\n",
    "answers[\"18\"] = f\"1. {title} ({id})\"\n",
    "answers[\"18\"]\n",
    "# +"
   ]
  },
  {
   "cell_type": "markdown",
   "metadata": {
    "colab_type": "text",
    "id": "vS8Ur6ddVp_u"
   },
   "source": [
    "# 19. Какой год стал самым успешным по суммарным кассовым сборам?"
   ]
  },
  {
   "cell_type": "code",
   "execution_count": 47,
   "metadata": {
    "colab": {},
    "colab_type": "code",
    "id": "Dnbt4GdIVp_v"
   },
   "outputs": [
    {
     "data": {
      "text/plain": [
       "'5. 2015'"
      ]
     },
     "execution_count": 47,
     "metadata": {},
     "output_type": "execute_result"
    }
   ],
   "source": [
    "# Больше однострочников Богу Однострочников!\n",
    "answers[\n",
    "    \"19\"\n",
    "] = f\"5. {data.groupby('release_year').revenue.sum().sort_values().tail(1).index[0]}\"\n",
    "answers[\"19\"]\n",
    "# +"
   ]
  },
  {
   "cell_type": "markdown",
   "metadata": {
    "colab_type": "text",
    "id": "JAzJh4QAVp_z"
   },
   "source": [
    "# 20. Какой самый прибыльный год для студии Warner Bros?"
   ]
  },
  {
   "cell_type": "code",
   "execution_count": 48,
   "metadata": {
    "colab": {},
    "colab_type": "code",
    "id": "wgVu02DEVp_0"
   },
   "outputs": [
    {
     "data": {
      "text/plain": [
       "'1. 2014'"
      ]
     },
     "execution_count": 48,
     "metadata": {},
     "output_type": "execute_result"
    }
   ],
   "source": [
    "answers[\n",
    "    \"20\"\n",
    "] = f\"1. {data.loc[data.production_companies.str.contains('Warner Bros')].groupby('release_year').profit.sum().sort_values().tail(1).index[0]}\"\n",
    "answers[\"20\"]\n",
    "# +"
   ]
  },
  {
   "cell_type": "markdown",
   "metadata": {
    "colab_type": "text",
    "id": "8Im1S2HRVp_4"
   },
   "source": [
    "# 21. В каком месяце за все годы суммарно вышло больше всего фильмов?"
   ]
  },
  {
   "cell_type": "code",
   "execution_count": 49,
   "metadata": {
    "colab": {},
    "colab_type": "code",
    "id": "lev6TH7gVp_4"
   },
   "outputs": [
    {
     "data": {
      "text/plain": [
       "'4. Сентябрь'"
      ]
     },
     "execution_count": 49,
     "metadata": {},
     "output_type": "execute_result"
    }
   ],
   "source": [
    "answers[\n",
    "    \"21\"\n",
    "] = f'4. {data.groupby(\"release_month_ru\").imdb_id.count().sort_values().tail(1).index[0]}'\n",
    "answers[\"21\"]\n",
    "# +"
   ]
  },
  {
   "cell_type": "markdown",
   "metadata": {
    "colab_type": "text",
    "id": "uAJsZ_NeVp_7"
   },
   "source": [
    "# 22. Сколько суммарно вышло фильмов летом? (за июнь, июль, август)"
   ]
  },
  {
   "cell_type": "code",
   "execution_count": 50,
   "metadata": {
    "colab": {},
    "colab_type": "code",
    "id": "Aa-hEREoVp_8"
   },
   "outputs": [
    {
     "data": {
      "text/plain": [
       "'2. 450'"
      ]
     },
     "execution_count": 50,
     "metadata": {},
     "output_type": "execute_result"
    }
   ],
   "source": [
    "answers[\"22\"] = f'2. {data.groupby(\"season\").imdb_id.count()[\"summer\"]}'\n",
    "answers[\"22\"]\n",
    "# +"
   ]
  },
  {
   "cell_type": "markdown",
   "metadata": {
    "colab_type": "text",
    "id": "G94ppOY1VqAA"
   },
   "source": [
    "# 23. Для какого режиссера зима – самое продуктивное время года?"
   ]
  },
  {
   "cell_type": "code",
   "execution_count": 51,
   "metadata": {
    "colab": {},
    "colab_type": "code",
    "id": "RhNTsamuVqAB"
   },
   "outputs": [
    {
     "data": {
      "text/html": [
       "<div>\n",
       "<style scoped>\n",
       "    .dataframe tbody tr th:only-of-type {\n",
       "        vertical-align: middle;\n",
       "    }\n",
       "\n",
       "    .dataframe tbody tr th {\n",
       "        vertical-align: top;\n",
       "    }\n",
       "\n",
       "    .dataframe thead th {\n",
       "        text-align: right;\n",
       "    }\n",
       "</style>\n",
       "<table border=\"1\" class=\"dataframe\">\n",
       "  <thead>\n",
       "    <tr style=\"text-align: right;\">\n",
       "      <th>season</th>\n",
       "      <th>autumn</th>\n",
       "      <th>spring</th>\n",
       "      <th>summer</th>\n",
       "      <th>winter</th>\n",
       "    </tr>\n",
       "    <tr>\n",
       "      <th>director</th>\n",
       "      <th></th>\n",
       "      <th></th>\n",
       "      <th></th>\n",
       "      <th></th>\n",
       "    </tr>\n",
       "  </thead>\n",
       "  <tbody>\n",
       "    <tr>\n",
       "      <th>Peter Jackson</th>\n",
       "      <td>1.0</td>\n",
       "      <td>NaN</td>\n",
       "      <td>NaN</td>\n",
       "      <td>7.0</td>\n",
       "    </tr>\n",
       "    <tr>\n",
       "      <th>Steven Soderbergh</th>\n",
       "      <td>3.0</td>\n",
       "      <td>2.0</td>\n",
       "      <td>2.0</td>\n",
       "      <td>6.0</td>\n",
       "    </tr>\n",
       "    <tr>\n",
       "      <th>Clint Eastwood</th>\n",
       "      <td>4.0</td>\n",
       "      <td>NaN</td>\n",
       "      <td>2.0</td>\n",
       "      <td>6.0</td>\n",
       "    </tr>\n",
       "    <tr>\n",
       "      <th>Adam Shankman</th>\n",
       "      <td>NaN</td>\n",
       "      <td>2.0</td>\n",
       "      <td>2.0</td>\n",
       "      <td>4.0</td>\n",
       "    </tr>\n",
       "    <tr>\n",
       "      <th>Martin Scorsese</th>\n",
       "      <td>2.0</td>\n",
       "      <td>NaN</td>\n",
       "      <td>NaN</td>\n",
       "      <td>4.0</td>\n",
       "    </tr>\n",
       "    <tr>\n",
       "      <th>...</th>\n",
       "      <td>...</td>\n",
       "      <td>...</td>\n",
       "      <td>...</td>\n",
       "      <td>...</td>\n",
       "    </tr>\n",
       "    <tr>\n",
       "      <th>Wong Kar-wai</th>\n",
       "      <td>NaN</td>\n",
       "      <td>1.0</td>\n",
       "      <td>NaN</td>\n",
       "      <td>NaN</td>\n",
       "    </tr>\n",
       "    <tr>\n",
       "      <th>Woody Allen</th>\n",
       "      <td>NaN</td>\n",
       "      <td>1.0</td>\n",
       "      <td>2.0</td>\n",
       "      <td>NaN</td>\n",
       "    </tr>\n",
       "    <tr>\n",
       "      <th>Xavier Gens</th>\n",
       "      <td>1.0</td>\n",
       "      <td>NaN</td>\n",
       "      <td>NaN</td>\n",
       "      <td>NaN</td>\n",
       "    </tr>\n",
       "    <tr>\n",
       "      <th>Zack Snyder</th>\n",
       "      <td>NaN</td>\n",
       "      <td>4.0</td>\n",
       "      <td>2.0</td>\n",
       "      <td>NaN</td>\n",
       "    </tr>\n",
       "    <tr>\n",
       "      <th>Zal Batmanglij</th>\n",
       "      <td>NaN</td>\n",
       "      <td>1.0</td>\n",
       "      <td>NaN</td>\n",
       "      <td>NaN</td>\n",
       "    </tr>\n",
       "  </tbody>\n",
       "</table>\n",
       "<p>957 rows × 4 columns</p>\n",
       "</div>"
      ],
      "text/plain": [
       "season             autumn  spring  summer  winter\n",
       "director                                         \n",
       "Peter Jackson         1.0     NaN     NaN     7.0\n",
       "Steven Soderbergh     3.0     2.0     2.0     6.0\n",
       "Clint Eastwood        4.0     NaN     2.0     6.0\n",
       "Adam Shankman         NaN     2.0     2.0     4.0\n",
       "Martin Scorsese       2.0     NaN     NaN     4.0\n",
       "...                   ...     ...     ...     ...\n",
       "Wong Kar-wai          NaN     1.0     NaN     NaN\n",
       "Woody Allen           NaN     1.0     2.0     NaN\n",
       "Xavier Gens           1.0     NaN     NaN     NaN\n",
       "Zack Snyder           NaN     4.0     2.0     NaN\n",
       "Zal Batmanglij        NaN     1.0     NaN     NaN\n",
       "\n",
       "[957 rows x 4 columns]"
      ]
     },
     "execution_count": 51,
     "metadata": {},
     "output_type": "execute_result"
    }
   ],
   "source": [
    "directors_x_seasons = data.pivot_table(\n",
    "    index=\"director\", columns=\"season\", values=\"imdb_id\", aggfunc=\"count\"\n",
    ").sort_values([\"winter\"], ascending=False)\n",
    "directors_x_seasons"
   ]
  },
  {
   "cell_type": "code",
   "execution_count": 52,
   "metadata": {},
   "outputs": [
    {
     "data": {
      "text/plain": [
       "'5. Peter Jackson'"
      ]
     },
     "execution_count": 52,
     "metadata": {},
     "output_type": "execute_result"
    }
   ],
   "source": [
    "answers[\"23\"] = f\"5. {directors_x_seasons.head(1).index[0]}\"\n",
    "answers[\"23\"]"
   ]
  },
  {
   "cell_type": "markdown",
   "metadata": {
    "colab_type": "text",
    "id": "RBo0JVjVVqAF"
   },
   "source": [
    "# 24. Какая студия дает самые длинные названия своим фильмам по количеству символов?"
   ]
  },
  {
   "cell_type": "code",
   "execution_count": 53,
   "metadata": {
    "colab": {},
    "colab_type": "code",
    "id": "QRGS8L0iVqAG"
   },
   "outputs": [
    {
     "data": {
      "text/plain": [
       "production_companies\n",
       "Focus Films|Starz Animation|Relativity Media|Tim Burton Productions|Arc Productions                                      1.0\n",
       "Ixtlan Productions|Emperor Motion Pictures|Global Entertainment Group                                                    2.0\n",
       "Columbia Pictures|Relativity Media                                                                                       2.0\n",
       "Twentieth Century Fox Film Corporation|Donners' Company|Bad Hat Harry Productions|Marvel Enterprises|XM2 Productions     2.0\n",
       "Sunswept Entertainment|Warner Bros.|Metro-Goldwyn-Mayer (MGM)                                                            3.0\n",
       "                                                                                                                        ... \n",
       "Dune Entertainment|Fox 2000 Pictures|Walden Media                                                                       56.0\n",
       "Plan B Entertainment|Virtual Studios|Scott Free Productions|Alberta Film Entertainment|Warner Bros.                     58.0\n",
       "Walt Disney Pictures|21 Laps Entertainment|Jim Henson Company, The                                                      59.0\n",
       "Walt Disney|Walden Media                                                                                                62.0\n",
       "Twentieth Century Fox Film Corporation|Four By Two Productions                                                          83.0\n",
       "Name: title_lengths, Length: 1624, dtype: float64"
      ]
     },
     "execution_count": 53,
     "metadata": {},
     "output_type": "execute_result"
    }
   ],
   "source": [
    "data.groupby(\"production_companies\").title_lengths.mean().sort_values()"
   ]
  },
  {
   "cell_type": "code",
   "execution_count": 54,
   "metadata": {},
   "outputs": [
    {
     "data": {
      "text/plain": [
       "1771"
      ]
     },
     "execution_count": 54,
     "metadata": {},
     "output_type": "execute_result"
    }
   ],
   "source": [
    "production_companies = set(\n",
    "    chain(*data.production_companies.apply(lambda corp: corp.split(\"|\")))\n",
    ")\n",
    "len(production_companies)"
   ]
  },
  {
   "cell_type": "code",
   "execution_count": 55,
   "metadata": {},
   "outputs": [
    {
     "name": "stderr",
     "output_type": "stream",
     "text": [
      "/home/user/opt/anaconda3/lib/python3.8/site-packages/pandas/core/strings.py:2001: UserWarning: This pattern has match groups. To actually get the groups, use str.extract.\n",
      "  return func(self, *args, **kwargs)\n"
     ]
    },
    {
     "data": {
      "text/plain": [
       "{'Four By Two Productions': 83.0}"
      ]
     },
     "execution_count": 55,
     "metadata": {},
     "output_type": "execute_result"
    }
   ],
   "source": [
    "corps_by_filme_title_length = {}\n",
    "\n",
    "for corp in production_companies:\n",
    "    corps_by_filme_title_length[corp] = data.loc[\n",
    "        data.production_companies.str.contains(corp)\n",
    "    ].title_lengths.mean()\n",
    "\n",
    "# глянем, что там у нас в максимумах\n",
    "{\n",
    "    k: v\n",
    "    for k, v in corps_by_filme_title_length.items()\n",
    "    if v == max(corps_by_filme_title_length.values())\n",
    "}"
   ]
  },
  {
   "cell_type": "code",
   "execution_count": 56,
   "metadata": {},
   "outputs": [
    {
     "data": {
      "text/plain": [
       "'5. Four By Two Productions'"
      ]
     },
     "execution_count": 56,
     "metadata": {},
     "output_type": "execute_result"
    }
   ],
   "source": [
    "answers[\n",
    "    \"24\"\n",
    "] = f\"5. {[k for k, v in corps_by_filme_title_length.items() if v == max(corps_by_filme_title_length.values())][0]}\"\n",
    "answers[\"24\"]"
   ]
  },
  {
   "cell_type": "markdown",
   "metadata": {
    "colab_type": "text",
    "id": "9G0hbvR7VqAK"
   },
   "source": [
    "# 25. Описание фильмов какой студии в среднем самые длинные по количеству слов?"
   ]
  },
  {
   "cell_type": "code",
   "execution_count": 57,
   "metadata": {
    "colab": {},
    "colab_type": "code",
    "id": "Ge2GsLNxVqAK"
   },
   "outputs": [
    {
     "data": {
      "text/plain": [
       "{'Midnight Picture Show': 176.0}"
      ]
     },
     "execution_count": 57,
     "metadata": {},
     "output_type": "execute_result"
    }
   ],
   "source": [
    "corps_by_overview_wordcount = {}\n",
    "\n",
    "for corp in production_companies:\n",
    "    corps_by_overview_wordcount[corp] = data.loc[\n",
    "        data.production_companies.str.contains(corp)\n",
    "    ].overview_wordcounts.mean()\n",
    "\n",
    "# глянем, что у нас попало в максимумы\n",
    "{\n",
    "    k: v\n",
    "    for k, v in corps_by_overview_wordcount.items()\n",
    "    if v == max(corps_by_overview_wordcount.values())\n",
    "}"
   ]
  },
  {
   "cell_type": "code",
   "execution_count": 58,
   "metadata": {},
   "outputs": [
    {
     "data": {
      "text/plain": [
       "'3. Midnight Picture Show'"
      ]
     },
     "execution_count": 58,
     "metadata": {},
     "output_type": "execute_result"
    }
   ],
   "source": [
    "answers[\n",
    "    \"25\"\n",
    "] = f\"3. {[k for k, v in corps_by_overview_wordcount.items() if v == max(corps_by_overview_wordcount.values())][0]}\"\n",
    "answers[\"25\"]"
   ]
  },
  {
   "cell_type": "markdown",
   "metadata": {
    "colab_type": "text",
    "id": "FJ1AFt90VqAP"
   },
   "source": [
    "# 26. Какие фильмы входят в 1 процент лучших по рейтингу?\n",
    "по vote_average"
   ]
  },
  {
   "cell_type": "code",
   "execution_count": 59,
   "metadata": {
    "colab": {},
    "colab_type": "code",
    "id": "8qmJVq4CVqAQ"
   },
   "outputs": [
    {
     "data": {
      "text/plain": [
       "['imdb_id',\n",
       " 'budget',\n",
       " 'revenue',\n",
       " 'original_title',\n",
       " 'cast',\n",
       " 'director',\n",
       " 'tagline',\n",
       " 'overview',\n",
       " 'runtime',\n",
       " 'genres',\n",
       " 'production_companies',\n",
       " 'release_date',\n",
       " 'vote_average',\n",
       " 'release_year',\n",
       " 'release_month',\n",
       " 'release_day',\n",
       " 'release_month_ru',\n",
       " 'season',\n",
       " 'cast_set',\n",
       " 'genres_set',\n",
       " 'production_companies_set',\n",
       " 'title_lengths',\n",
       " 'overview_wordcounts',\n",
       " 'profit']"
      ]
     },
     "execution_count": 59,
     "metadata": {},
     "output_type": "execute_result"
    }
   ],
   "source": [
    "data.columns.tolist()"
   ]
  },
  {
   "cell_type": "code",
   "execution_count": 60,
   "metadata": {},
   "outputs": [],
   "source": [
    "\n",
    "# Как здесь иногда бывает, правильные ответы могут присутствовать\n",
    "# в разных вариантах ответа\n",
    "# Я переформулирую задачу так: нам нужен ответ, состоящий полностью из правильных ответов\n",
    "\n",
    "# Короче, хардкодим все предложенные фильмы во всех вариантах ответов\n",
    "\n",
    "answer_options = [\n",
    "    \"Inside Out\",\n",
    "    \"The Dark Knight\",\n",
    "    \"12 Years a Slave\",\n",
    "    \"BloodRayne\",\n",
    "    \"The Adventures of Rocky & Bullwinkle\",\n",
    "    \"Batman Begins\",\n",
    "    \"The Lord of the Rings: The Return of the King\",\n",
    "    \"Upside Down\",\n",
    "    \"300\",\n",
    "    \"Lucky Number Slevin\",\n",
    "    \"Kill Bill: Vol. 1\",\n",
    "    \"Upside Down\",\n",
    "    \"Inside Out\",\n",
    "    \"Iron Man \",\n",
    "]"
   ]
  },
  {
   "cell_type": "code",
   "execution_count": 61,
   "metadata": {},
   "outputs": [],
   "source": [
    "# топ 1% фильмы\n",
    "\n",
    "top_rated_films = (\n",
    "    data.sort_values([\"vote_average\"])\n",
    "        .original_title.tail(int(data.shape[0] / 100))\n",
    "        .tolist()\n",
    ")"
   ]
  },
  {
   "cell_type": "code",
   "execution_count": 62,
   "metadata": {},
   "outputs": [
    {
     "data": {
      "text/plain": [
       "['The Theory of Everything',\n",
       " 'The Lord of the Rings: The Two Towers',\n",
       " 'There Will Be Blood',\n",
       " 'Mr. Nobody',\n",
       " '12 Years a Slave',\n",
       " 'The Pianist',\n",
       " 'Gone Girl',\n",
       " 'Memento',\n",
       " 'Guardians of the Galaxy',\n",
       " 'Inception',\n",
       " 'The Wolf of Wall Street',\n",
       " 'The Grand Budapest Hotel',\n",
       " 'The Lord of the Rings: The Return of the King',\n",
       " 'Room',\n",
       " 'Interstellar',\n",
       " 'Inside Out',\n",
       " 'The Imitation Game',\n",
       " 'The Dark Knight']"
      ]
     },
     "execution_count": 62,
     "metadata": {},
     "output_type": "execute_result"
    }
   ],
   "source": [
    "top_rated_films"
   ]
  },
  {
   "cell_type": "code",
   "execution_count": 63,
   "metadata": {},
   "outputs": [
    {
     "data": {
      "text/plain": [
       "'1. Inside Out, The Dark Knight, 12 Years a Slave'"
      ]
     },
     "execution_count": 63,
     "metadata": {},
     "output_type": "execute_result"
    }
   ],
   "source": [
    "# в топе берём лишь те ответы, которые есть в вариантах ответов\n",
    "preanswer = sorted([f for f in top_rated_films if f in answer_options], reverse=True)[1:]\n",
    "\n",
    "# ответ специфическим образом отформатирован, сортируем нужным образом\n",
    "answers[\"26\"] = \"1. \" + \", \".join(sorted(preanswer[:2]) + preanswer[2:])\n",
    "answers[\"26\"]"
   ]
  },
  {
   "cell_type": "markdown",
   "metadata": {
    "colab_type": "text",
    "id": "MdXsUXbCVqAV"
   },
   "source": [
    "# 27. Какие актеры чаще всего снимаются в одном фильме вместе?\n"
   ]
  },
  {
   "cell_type": "markdown",
   "metadata": {},
   "source": [
    "Это задание мне показалось не столь очевидно решаемым, как все предыдущие, поэтому подробно прокомментирую свой ход мыслей.\n",
    "\n",
    "Для начала **соберём все возможные пары актёров** в множество -- позже будем искать включения множеств.\n",
    "\n",
    "Их много, так что **законсервируем результат с помощью pickle**"
   ]
  },
  {
   "cell_type": "code",
   "execution_count": 64,
   "metadata": {
    "lines_to_next_cell": 2
   },
   "outputs": [
    {
     "data": {
      "text/plain": [
       "5798715"
      ]
     },
     "execution_count": 64,
     "metadata": {},
     "output_type": "execute_result"
    }
   ],
   "source": [
    "actor_pairs_filepath = \"27_actor_pairs.pkl\"\n",
    "actor_pairs = {}\n",
    "\n",
    "if os.path.exists(actor_pairs_filepath):\n",
    "    with open(actor_pairs_filepath, \"rb\") as pin:\n",
    "        actor_pairs = pickle.load(pin)\n",
    "else:\n",
    "    for a in tqdm(actors):\n",
    "        for b in actors:\n",
    "            if a != b:\n",
    "                actor_pairs[\" & \".join(sorted([a, b]))] = {a, b}\n",
    "    with open(actor_pairs_filepath, \"wb\") as pout:\n",
    "        pickle.dump(actor_pairs, pout)\n",
    "\n",
    "len(actor_pairs)"
   ]
  },
  {
   "cell_type": "markdown",
   "metadata": {},
   "source": [
    "Теперь для **каждой пары посчитаем количество строк в файле**, где сия пара фигурирует. Решаем через множества с помощью apply. Это быстрее приблизительно в 9 раз, чем делать то же самое через циклы и строки.\n",
    "\n",
    "Опять получается времязатратная операция.\n",
    "Поскольку результат мы сохраняем в словарь, то в данном случае **используем json для сохранения нашей переменной** на диске. Текстовый формат как-то универсальнее, да и хочется попробовать разные варианты."
   ]
  },
  {
   "cell_type": "code",
   "execution_count": 65,
   "metadata": {},
   "outputs": [
    {
     "name": "stdout",
     "output_type": "stream",
     "text": [
      "CPU times: user 4.45 ms, sys: 6.42 ms, total: 10.9 ms\n",
      "Wall time: 19.7 ms\n"
     ]
    }
   ],
   "source": [
    "%%time\n",
    "\n",
    "\n",
    "def calculate_rows_for_pairs(pairs: dict) -> dict:\n",
    "    films_played_together = {}\n",
    "\n",
    "    for key, value in tqdm(pairs.items()):\n",
    "        condition = data.cast_set.apply(lambda cast: value.issubset(cast))\n",
    "        if condition.sum() > 0:\n",
    "            films_played_together[key] = data.imdb_id.loc[condition].shape[0]\n",
    "\n",
    "    return films_played_together\n",
    "\n",
    "\n",
    "films_together_filepath = \"27_films_together.json\"\n",
    "if os.path.exists(films_together_filepath):\n",
    "    with open(films_together_filepath, \"r\") as jin:\n",
    "        films_together = json.loads(jin.read())\n",
    "else:\n",
    "    films_together = calculate_rows_for_pairs(actor_pairs)\n",
    "    with open(films_together_filepath, \"w\") as jout:\n",
    "        jout.write(json.dumps(films_together))"
   ]
  },
  {
   "cell_type": "markdown",
   "metadata": {},
   "source": [
    "Отфильтруем только **значенния, равные маскимальному** в нашем словаре, и посмотрим что там у нас получается."
   ]
  },
  {
   "cell_type": "code",
   "execution_count": 66,
   "metadata": {},
   "outputs": [
    {
     "name": "stdout",
     "output_type": "stream",
     "text": [
      "CPU times: user 5.78 s, sys: 2.78 ms, total: 5.79 s\n",
      "Wall time: 5.79 s\n"
     ]
    },
    {
     "data": {
      "text/plain": [
       "{'Emma Watson & Rupert Grint': 8,\n",
       " 'Daniel Radcliffe & Rupert Grint': 8,\n",
       " 'Daniel Radcliffe & Emma Watson': 8}"
      ]
     },
     "execution_count": 66,
     "metadata": {},
     "output_type": "execute_result"
    }
   ],
   "source": [
    "%%time\n",
    "{k: v for k, v in films_together.items() if v == max(films_together.values())}"
   ]
  },
  {
   "cell_type": "markdown",
   "metadata": {},
   "source": [
    "**Ага! Их у этих максимальных несколько, и они равны друг другу.**\n",
    "\n",
    "Это значит, что теперь надо выбрать то, что соответствует какому-нибудь из предложенных вариантов ответа.\n",
    "\n",
    "Перебираем предложенные варианты и ищем пересечение с моим топом."
   ]
  },
  {
   "cell_type": "code",
   "execution_count": 67,
   "metadata": {},
   "outputs": [
    {
     "name": "stdout",
     "output_type": "stream",
     "text": [
      "5. Daniel Radcliffe & Rupert Grint\n"
     ]
    }
   ],
   "source": [
    "possible_answers = [\n",
    "    \"Johnny Depp & Helena Bonham Carter\",\n",
    "    \"Ben Stiller & Owen Wilson\",\n",
    "    \"Vin Diesel & Paul Walker\",\n",
    "    \"Adam Sandler & Kevin James\",\n",
    "    \"Daniel Radcliffe & Rupert Grint\",\n",
    "]\n",
    "\n",
    "my_variants = [\n",
    "    k for k, v in films_together.items() if v == max(films_together.values())\n",
    "]\n",
    "\n",
    "for index, answer_pair in enumerate(possible_answers):\n",
    "    for my_pair in my_variants:\n",
    "        answer_name1, answer_name2 = answer_pair.split(\" & \")\n",
    "        if answer_name1 in my_pair and answer_name2 in my_pair:\n",
    "            answers[\"27\"] = f\"{index + 1}. {answer_pair}\"\n",
    "\n",
    "print(answers[\"27\"])\n",
    "# +"
   ]
  },
  {
   "cell_type": "markdown",
   "metadata": {},
   "source": [
    "Да, совпадает один конкретный вариант. И да, он правильный.\n",
    "\n",
    "Я понимаю, нельзя использовать варианты ответов в коде решения, но система не даёт ввести все три правильных варианта, поэтому из трёх правильных я выбрал тот самый один, что удовлетворит систему."
   ]
  },
  {
   "cell_type": "markdown",
   "metadata": {
    "colab_type": "text",
    "id": "4ymnxEVoVqAW"
   },
   "source": [
    "ВАРИАНТ 2"
   ]
  },
  {
   "cell_type": "code",
   "execution_count": 68,
   "metadata": {
    "jupyter": {
     "outputs_hidden": true
    }
   },
   "outputs": [],
   "source": [
    "# лучше не запускать -- потребует около 9 часов (на моей машине).\n",
    "# Просто как вариант альтернативного решения\n",
    "\n",
    "# actor_pairs = {}\n",
    "#\n",
    "# for a in tqdm(actors):\n",
    "#     for b in actors:\n",
    "#         if a != b:\n",
    "#             pair = \" & \".join(sorted([a, b]))\n",
    "#             actor_pairs[pair] = data.loc[\n",
    "#                 (data.cast.str.contains(a)) & (data.cast.str.contains(b))\n",
    "#                 ].shape[0]\n",
    "#\n",
    "# {k: v for k, v in actor_pairs.items() if v == max(actor_pairs.values())}"
   ]
  },
  {
   "cell_type": "markdown",
   "metadata": {
    "colab_type": "text",
    "id": "U0nONFnGVqAX"
   },
   "source": [
    "# Submission"
   ]
  },
  {
   "cell_type": "code",
   "execution_count": 69,
   "metadata": {
    "colab": {},
    "colab_type": "code",
    "id": "IfcaRO9-VqAX",
    "outputId": "0f132912-32bb-4196-c98c-abfbc4ad5a5f"
   },
   "outputs": [
    {
     "data": {
      "text/plain": [
       "{'1': '5. Pirates of the Caribbean: On Stranger Tides (tt1298650)',\n",
       " '2': '2. Gods and Generals (tt0279111)',\n",
       " '3': '3. Winnie the Pooh (tt1449283)',\n",
       " '4': '2. 110',\n",
       " '5': '1. 107',\n",
       " '6': '5. Avatar (tt0499549)',\n",
       " '7': '5. The Lone Ranger (tt1210819)',\n",
       " '8': '1. 1478',\n",
       " '9': '4. The Dark Knight (tt0468569)',\n",
       " '10': '5. The Lone Ranger (tt1210819)',\n",
       " '11': '3. Drama',\n",
       " '12': '1. Drama',\n",
       " '13': '5. Peter Jackson',\n",
       " '14': '3. Robert Rodriguez',\n",
       " '15': '3. Chris Hemsworth',\n",
       " '16': '3. Matt Damon',\n",
       " '17': '2. Action',\n",
       " '18': '1. K-19: The Widowmaker (tt0267626)',\n",
       " '19': '5. 2015',\n",
       " '20': '1. 2014',\n",
       " '21': '4. Сентябрь',\n",
       " '22': '2. 450',\n",
       " '23': '5. Peter Jackson',\n",
       " '24': '5. Four By Two Productions',\n",
       " '25': '3. Midnight Picture Show',\n",
       " '26': '1. Inside Out, The Dark Knight, 12 Years a Slave',\n",
       " '27': '5. Daniel Radcliffe & Rupert Grint'}"
      ]
     },
     "execution_count": 69,
     "metadata": {},
     "output_type": "execute_result"
    }
   ],
   "source": [
    "# в конце можно посмотреть свои ответы к каждому вопросу\n",
    "answers"
   ]
  },
  {
   "cell_type": "code",
   "execution_count": 70,
   "metadata": {
    "colab": {},
    "colab_type": "code",
    "id": "SiRmHPl8VqAd"
   },
   "outputs": [
    {
     "data": {
      "text/plain": [
       "27"
      ]
     },
     "execution_count": 70,
     "metadata": {},
     "output_type": "execute_result"
    }
   ],
   "source": [
    "# и убедиться что ничего не пропустил)\n",
    "len(answers)"
   ]
  }
 ],
 "metadata": {
  "colab": {
   "name": "Copy of [SF-DST] Movies IMBD v4.1 TEMPLATE.ipynb",
   "provenance": []
  },
  "jupytext": {
   "encoding": "# -*- coding: utf-8 -*-",
   "formats": "ipynb,py:percent"
  },
  "kernelspec": {
   "display_name": "Python 3",
   "language": "python",
   "name": "python3"
  },
  "language_info": {
   "codemirror_mode": {
    "name": "ipython",
    "version": 3
   },
   "file_extension": ".py",
   "mimetype": "text/x-python",
   "name": "python",
   "nbconvert_exporter": "python",
   "pygments_lexer": "ipython3",
   "version": "3.8.5"
  }
 },
 "nbformat": 4,
 "nbformat_minor": 4
}
